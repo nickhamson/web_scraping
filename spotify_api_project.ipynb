{
 "cells": [
  {
   "cell_type": "code",
   "execution_count": 83,
   "metadata": {},
   "outputs": [],
   "source": [
    "#imports\n",
    "import spotipy\n",
    "from spotipy.oauth2 import SpotifyClientCredentials\n",
    "import os\n",
    "import pandas as pd"
   ]
  },
  {
   "cell_type": "code",
   "execution_count": 84,
   "metadata": {},
   "outputs": [],
   "source": [
    "#set up api key variables\n",
    "keysfile = open('apikeys','r')\n",
    "cl_id = keysfile.readline().strip()\n",
    "cl_sec = keysfile.readline().strip()\n",
    "\n",
    "#set up spotify object\n",
    "auth_manager = SpotifyClientCredentials(client_id=cl_id, client_secret=cl_sec)\n",
    "sp = spotipy.Spotify(auth_manager=auth_manager)\n"
   ]
  },
  {
   "cell_type": "code",
   "execution_count": 85,
   "metadata": {},
   "outputs": [],
   "source": [
    "#requests to get all of moby's albums released in the US (which removes a bunch of duplicates)\n",
    "moby_uri = 'spotify:artist:3OsRAKCvk37zwYcnzRf5XF'\n",
    "\n",
    "results = sp.artist_albums(moby_uri, album_type='album')\n",
    "albums = results['items']\n",
    "while results['next']:\n",
    "    results = sp.next(results)\n",
    "    albums.extend(results['items'])\n",
    "\n",
    "albums = [album for album in albums if 'US' in album['available_markets'] ]\n",
    "\n",
    "# for album in albums:\n",
    "#     print(album['name'])\n"
   ]
  },
  {
   "cell_type": "code",
   "execution_count": 86,
   "metadata": {},
   "outputs": [],
   "source": [
    "#get all the track ids and names from all of the albums\n",
    "album_ids = [album['id'] for album in albums]\n",
    "album_ids\n",
    "\n",
    "track_ids = []\n",
    "track_names = []\n",
    "for ai in album_ids:\n",
    "    results = sp.album_tracks(ai)\n",
    "    tracks = results['items']\n",
    "    track_ids.extend([track['id'] for track in tracks])\n",
    "    track_names.extend([track['name'] for track in tracks])"
   ]
  },
  {
   "cell_type": "code",
   "execution_count": 87,
   "metadata": {},
   "outputs": [],
   "source": [
    "#grab the audio features for all the tracks in batches of 100\n",
    "data = sp.audio_features(track_ids[0:100])\n",
    "data.extend(sp.audio_features(track_ids[100:200]))\n",
    "data.extend(sp.audio_features(track_ids[200:300]))\n",
    "data.extend(sp.audio_features(track_ids[300:400]))\n",
    "data.extend(sp.audio_features(track_ids[400:500]))\n",
    "data.extend(sp.audio_features(track_ids[500:600]))\n",
    "data.extend(sp.audio_features(track_ids[600:692]))"
   ]
  },
  {
   "cell_type": "code",
   "execution_count": 88,
   "metadata": {},
   "outputs": [],
   "source": [
    "#put it in a dataframe with names, drop unnecessary fields, export\n",
    "df = pd.DataFrame(data)\n",
    "df.insert(0,'name',track_names,True)\n",
    "df.drop(['type','uri','track_href','analysis_url'], axis=1, inplace=True)\n",
    "df.to_csv('moby_song_data.txt')"
   ]
  }
 ],
 "metadata": {
  "kernelspec": {
   "display_name": "Python 3.8.10 64-bit",
   "language": "python",
   "name": "python3"
  },
  "language_info": {
   "codemirror_mode": {
    "name": "ipython",
    "version": 3
   },
   "file_extension": ".py",
   "mimetype": "text/x-python",
   "name": "python",
   "nbconvert_exporter": "python",
   "pygments_lexer": "ipython3",
   "version": "3.8.10"
  },
  "orig_nbformat": 4,
  "vscode": {
   "interpreter": {
    "hash": "916dbcbb3f70747c44a77c7bcd40155683ae19c65e1c03b4aa3499c5328201f1"
   }
  }
 },
 "nbformat": 4,
 "nbformat_minor": 2
}
