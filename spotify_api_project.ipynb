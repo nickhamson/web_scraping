{
 "cells": [
  {
   "cell_type": "code",
   "execution_count": 79,
   "metadata": {},
   "outputs": [],
   "source": [
    "#imports\n",
    "import spotipy\n",
    "from spotipy.oauth2 import SpotifyClientCredentials\n",
    "import os\n",
    "import pandas as pd"
   ]
  },
  {
   "cell_type": "code",
   "execution_count": 80,
   "metadata": {},
   "outputs": [],
   "source": [
    "#set up api key variables\n",
    "keysfile = open('apikeys','r')\n",
    "cl_id = keysfile.readline().strip()\n",
    "cl_sec = keysfile.readline().strip()\n",
    "\n",
    "#set up spotify object\n",
    "auth_manager = SpotifyClientCredentials(client_id=cl_id, client_secret=cl_sec)\n",
    "sp = spotipy.Spotify(auth_manager=auth_manager)\n"
   ]
  },
  {
   "cell_type": "code",
   "execution_count": 81,
   "metadata": {},
   "outputs": [],
   "source": [
    "#requests to get all of moby's albums\n",
    "moby_uri = 'spotify:artist:3OsRAKCvk37zwYcnzRf5XF'\n",
    "\n",
    "results = sp.artist_albums(moby_uri, album_type='album')\n",
    "albums = results['items']\n",
    "while results['next']:\n",
    "    results = sp.next(results)\n",
    "    albums.extend(results['items'])\n"
   ]
  },
  {
   "cell_type": "code",
   "execution_count": 82,
   "metadata": {},
   "outputs": [],
   "source": [
    "# only released in the US (which removes a bunch of duplicates)\n",
    "albums = [album for album in albums if 'US' in album['available_markets'] ]\n",
    "\n",
    "# remove duplicates\n",
    "temp=[]\n",
    "for album in albums:\n",
    "    if album['name'].lower() not in [a['name'].lower() for a in temp]:\n",
    "        temp.append(album)\n",
    "albums = temp\n",
    "\n",
    "# remove specific albums\n",
    "omit = [\"Reprise (Commentary Version)\",\"Porcelain (Gekürzte Lesung)\",\"Destroyed\",\"Wait for Me\",\"Wait for Me (Deluxe Version)\",\n",
    "    'Everything Was Beautiful, And Nothing Hurt (The EastWest Sessions)','Innocents: Live at the Fonda, LA','Wait for Me (Ambient)',\n",
    "    'Wait for Me. Remixes!','Wait For Me (Bonus Track Version)','All Visible Objects (Quarantine DJ Set)']\n",
    "albums = [album for album in albums if album['name'] not in omit]\n",
    "\n",
    "# for album in albums:\n",
    "#     print(album['name'])\n",
    "# len(albums)\n"
   ]
  },
  {
   "cell_type": "code",
   "execution_count": 83,
   "metadata": {},
   "outputs": [],
   "source": [
    "#categories for all of the albums\n",
    "album_cat = {\n",
    "    '18 & 18 B-Sides':'Studio',\n",
    "    'All Visible Objects':'Studio',\n",
    "    'All Visible Objects [Remixed : DJ Set]':'Remix',\n",
    "    'Ambient':'Ambient',\n",
    "    'Animal Rights':'Studio',\n",
    "    'Destroyed Remixed':'Remix',\n",
    "    'Destroyed [Deluxe Edition]':'Studio',\n",
    "    'Early Underground':'Studio',\n",
    "    'Everything Is Wrong':'Studio',\n",
    "    'Everything Was Beautiful, and Nothing Hurt':'Studio',\n",
    "    'Everything Was Beautiful, and Nothing Hurt (Remixes)':'Remix',\n",
    "    'Hotel':'Studio',\n",
    "    'Hotel Ambient':'Ambient',\n",
    "    'I Like to Score':'Studio',\n",
    "    'Innocents':'Studio',\n",
    "    'Last Night':'Studio',\n",
    "    'Last Night Remixed':'Remix',\n",
    "    'Live Ambient Improvised Recordings, Vol. 1':'Ambient',\n",
    "    'Long Ambients 1: Calm. Sleep':'Ambient',\n",
    "    'Long Ambients Two':'Ambient',\n",
    "    'Moby':'Studio',\n",
    "    'More Fast Songs About The Apocalypse':'Studio',\n",
    "    'Next Is the E':'Studio',\n",
    "    'Play & Play: B Sides':'Studio',\n",
    "    'Remixes':'Remix',\n",
    "    'Reprise':'Studio',\n",
    "    'Reprise - Remixes':'Remix',\n",
    "    'Songs 1993 - 1998':'Studio',\n",
    "    'The Remixes':'Remix',\n",
    "    'These Systems Are Failing':'Studio',\n",
    "    'Wait For Me Ambient':'Ambient',\n",
    "    'Wait For Me Remixes!':'Remix',\n",
    "    'Wait for Me (Deluxe Edition)':'Studio'\n",
    "    }"
   ]
  },
  {
   "cell_type": "code",
   "execution_count": 84,
   "metadata": {},
   "outputs": [],
   "source": [
    "#get all the track ids and names from all of the albums\n",
    "track_ids = []\n",
    "track_names = []\n",
    "track_albums = []\n",
    "track_categories = []\n",
    "\n",
    "for album in albums:\n",
    "    tracks = sp.album_tracks(album['id'])['items']\n",
    "    track_ids.extend([track['id'] for track in tracks])\n",
    "    track_names.extend([track['name'] for track in tracks])\n",
    "    track_albums.extend([album['name']] * len(tracks))\n",
    "    track_categories.extend([album_cat[album['name']]] * len(tracks))\n"
   ]
  },
  {
   "cell_type": "code",
   "execution_count": 71,
   "metadata": {},
   "outputs": [],
   "source": [
    "data = []\n",
    "indexes = list(range(0,len(track_ids),100)) + [len(track_ids)]\n",
    "for i in range(len(indexes)-1):\n",
    "    data.extend(sp.audio_features(track_ids[indexes[i]:indexes[i+1]]))\n"
   ]
  },
  {
   "cell_type": "code",
   "execution_count": 89,
   "metadata": {},
   "outputs": [],
   "source": [
    "#put it in a dataframe with names, drop unnecessary fields, export\n",
    "df = pd.DataFrame(data)\n",
    "df.insert(0,'name',track_names,True)\n",
    "df.insert(1,'Album',track_albums,True)\n",
    "df.insert(2,'Category',track_categories,True)\n",
    "df.drop(['type','uri','track_href','analysis_url'], axis=1, inplace=True)\n",
    "df.rename({'danceability':'Danceability'},axis='columns',inplace=True)"
   ]
  },
  {
   "cell_type": "code",
   "execution_count": 90,
   "metadata": {},
   "outputs": [],
   "source": [
    "\n",
    "df.to_csv('msd2.csv')"
   ]
  },
  {
   "cell_type": "code",
   "execution_count": null,
   "metadata": {},
   "outputs": [],
   "source": []
  }
 ],
 "metadata": {
  "kernelspec": {
   "display_name": "Python 3.8.10 64-bit",
   "language": "python",
   "name": "python3"
  },
  "language_info": {
   "codemirror_mode": {
    "name": "ipython",
    "version": 3
   },
   "file_extension": ".py",
   "mimetype": "text/x-python",
   "name": "python",
   "nbconvert_exporter": "python",
   "pygments_lexer": "ipython3",
   "version": "3.8.10"
  },
  "orig_nbformat": 4,
  "vscode": {
   "interpreter": {
    "hash": "916dbcbb3f70747c44a77c7bcd40155683ae19c65e1c03b4aa3499c5328201f1"
   }
  }
 },
 "nbformat": 4,
 "nbformat_minor": 2
}
